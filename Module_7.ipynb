{
 "cells": [
  {
   "cell_type": "markdown",
   "id": "6be0d950-570d-4c01-90e0-5527163c026d",
   "metadata": {},
   "source": [
    "<center> <h1>Assignment</h1> </center> "
   ]
  },
  {
   "cell_type": "markdown",
   "id": "9619e78d-ad4c-48ef-808c-26f6eb78cb50",
   "metadata": {},
   "source": [
    "### 1.What are the types of Application?"
   ]
  },
  {
   "cell_type": "markdown",
   "id": "59999d47-751a-40b4-9fd2-38d534fb7a0c",
   "metadata": {},
   "source": [
    "1.Web Application: Run in Browser(eg.gmail)<br>\n",
    "2.Mobile Application: For mobiles devices(eg.youtube)<br>\n",
    "3.Desktop Application: For PCs (eg.MicrosoftWord)<br>\n",
    "4.Enterprice Application: For business operation (eg.ERP System)"
   ]
  },
  {
   "cell_type": "markdown",
   "id": "41d6ecf3-e6d6-427f-9cb1-7760b4156280",
   "metadata": {},
   "source": [
    "### 2) What is programming?"
   ]
  },
  {
   "cell_type": "markdown",
   "id": "f260eec0-74c6-48ea-9e86-235fcf02a6b7",
   "metadata": {},
   "source": [
    "Programming is the process of writing instructions for a computer to execut. typically using a programming language"
   ]
  },
  {
   "cell_type": "markdown",
   "id": "7a336d29-2e16-4040-a44b-d079954d448e",
   "metadata": {},
   "source": [
    "### 3) What is Python?"
   ]
  },
  {
   "cell_type": "markdown",
   "id": "27ed598b-e140-4af5-b0ec-f0db5fd3a1ee",
   "metadata": {},
   "source": [
    "Python is a high-level, interpreted programming language known for its readability and versatility."
   ]
  },
  {
   "cell_type": "markdown",
   "id": "33dde7ca-3bc4-4178-9a11-8e59ea238632",
   "metadata": {},
   "source": [
    "### 4) Write a Python program to check if a number is positive, negative, or zero."
   ]
  },
  {
   "cell_type": "code",
   "execution_count": 2,
   "id": "d2a2268f-e1e1-487f-8947-5959c99aa293",
   "metadata": {},
   "outputs": [
    {
     "name": "stdin",
     "output_type": "stream",
     "text": [
      "Enter a Number: -5\n"
     ]
    },
    {
     "name": "stdout",
     "output_type": "stream",
     "text": [
      "Negative Number\n"
     ]
    }
   ],
   "source": [
    "num=int(input(\"Enter a Number:\"))\n",
    "if num>0:\n",
    "    print(\"Postive Number\")\n",
    "elif num<0:\n",
    "    print(\"Negative Number\")\n",
    "else:\n",
    "    print(\"Zero\")"
   ]
  },
  {
   "cell_type": "markdown",
   "id": "39d8d89e-254a-4dc7-855d-f779bacd3f5c",
   "metadata": {},
   "source": [
    "### 5) Write a Python program to get the factorial number of given numbers."
   ]
  },
  {
   "cell_type": "code",
   "execution_count": 1,
   "id": "a47e4200-6bc1-47bd-ad87-02d134b0f253",
   "metadata": {},
   "outputs": [
    {
     "name": "stdin",
     "output_type": "stream",
     "text": [
      "Enter a number:  5\n"
     ]
    },
    {
     "name": "stdout",
     "output_type": "stream",
     "text": [
      "The factorial of 5 is 120\n"
     ]
    }
   ],
   "source": [
    "num = int(input(\"Enter a number: \"))\n",
    "result = 1\n",
    "for i in range(1, num + 1):\n",
    "    result *= i\n",
    "\n",
    "print(\"The factorial of\",num,\"is\",result)"
   ]
  },
  {
   "cell_type": "markdown",
   "id": "2bd78cc0-0d27-4213-964f-54745e6789ea",
   "metadata": {},
   "source": [
    "### 6) Write a Python program to get the Fibonacci series of a given range."
   ]
  },
  {
   "cell_type": "code",
   "execution_count": 4,
   "id": "3c8b175b-46a4-470e-bfab-eefa845c8620",
   "metadata": {},
   "outputs": [
    {
     "name": "stdin",
     "output_type": "stream",
     "text": [
      "Enter Number: 5\n"
     ]
    },
    {
     "name": "stdout",
     "output_type": "stream",
     "text": [
      "0 1 1 2 3 "
     ]
    }
   ],
   "source": [
    "n=int(input(\"Enter Number:\"))\n",
    "a,b=0,1\n",
    "for j in range(n):\n",
    "    print(a,end=\" \")\n",
    "    a,b=b,a+b"
   ]
  },
  {
   "cell_type": "markdown",
   "id": "862531ed-d489-4b8b-b4e0-8440d8662c16",
   "metadata": {},
   "source": [
    "### 7) How is memory managed in Python?\n"
   ]
  },
  {
   "cell_type": "markdown",
   "id": "51082e8c-2835-40c5-9179-4f16cec19543",
   "metadata": {},
   "source": [
    "Memory in Python is managed by the Python Memory Manager, which handles the allocation and deallocation of memory for objects, and includes an automatic garbage collector for reclaiming unused memory.\n",
    "\n"
   ]
  },
  {
   "cell_type": "markdown",
   "id": "8b0eb6a6-8c7f-4a93-99e9-0487c5ff07fc",
   "metadata": {},
   "source": [
    "### 8) What is the purpose of the continue statement in Python?"
   ]
  },
  {
   "cell_type": "markdown",
   "id": "3a47f661-7dfd-4d8b-8de4-78884a92bb28",
   "metadata": {},
   "source": [
    "The 'continue' statement is used to skip the rest of the code inside the current loop iteration and move to the next iteration of the loop"
   ]
  },
  {
   "cell_type": "markdown",
   "id": "2fcc7595-7ae7-4382-b7c6-ba4088cda0f3",
   "metadata": {},
   "source": [
    "### 9) Write a Python program that swaps two numbers with and without a temp variable."
   ]
  },
  {
   "cell_type": "code",
   "execution_count": 7,
   "id": "f50aa6bc-f179-4cdc-95b1-1111283a2e20",
   "metadata": {},
   "outputs": [
    {
     "name": "stdin",
     "output_type": "stream",
     "text": [
      "Enter A Number: 45\n",
      "Enter B Number: 52\n"
     ]
    },
    {
     "name": "stdout",
     "output_type": "stream",
     "text": [
      "A:52,B:45\n"
     ]
    }
   ],
   "source": [
    "a=int(input(\"Enter A Number:\"))\n",
    "b=int(input(\"Enter B Number:\"))\n",
    "temp=a\n",
    "a=b\n",
    "b=temp\n",
    "print(f\"A:{a},B:{b}\")"
   ]
  },
  {
   "cell_type": "code",
   "execution_count": 8,
   "id": "bffea048-52a8-4956-b29b-8a770f3c929a",
   "metadata": {},
   "outputs": [
    {
     "name": "stdin",
     "output_type": "stream",
     "text": [
      "Enter A Number: 45\n",
      "Enter B Number: 85\n"
     ]
    },
    {
     "name": "stdout",
     "output_type": "stream",
     "text": [
      "A:85,B:45\n"
     ]
    }
   ],
   "source": [
    "a=int(input(\"Enter A Number:\"))\n",
    "b=int(input(\"Enter B Number:\"))\n",
    "a,b=b,a\n",
    "print(f\"A:{a},B:{b}\")"
   ]
  },
  {
   "cell_type": "markdown",
   "id": "34e7c1ce-7798-4643-897e-a89be49724fe",
   "metadata": {},
   "source": [
    "### 10) Write a Python program to find whether a given number is even or odd, and print an appropriate message to the user."
   ]
  },
  {
   "cell_type": "code",
   "execution_count": 11,
   "id": "33c83d5d-7007-4a29-951b-2c631d05f50b",
   "metadata": {},
   "outputs": [
    {
     "name": "stdin",
     "output_type": "stream",
     "text": [
      "Enter Number: 2\n"
     ]
    },
    {
     "name": "stdout",
     "output_type": "stream",
     "text": [
      "2 is Even Number\n"
     ]
    }
   ],
   "source": [
    "num=int(input(\"Enter Number:\"))\n",
    "if num%2==0:\n",
    "    print(f\"{num} is Even Number\")\n",
    "else:\n",
    "    print(f\"{num} is Odd Number\")"
   ]
  },
  {
   "cell_type": "markdown",
   "id": "9c40e12c-8380-499f-a217-0a2dc4b77e1f",
   "metadata": {},
   "source": [
    "### 11) Write a Python program to test whether a passed letter is a vowel or not."
   ]
  },
  {
   "cell_type": "code",
   "execution_count": 4,
   "id": "0bdd5d9b-1c4a-4cf4-b8c5-df571a0e653b",
   "metadata": {},
   "outputs": [
    {
     "name": "stdin",
     "output_type": "stream",
     "text": [
      "Enter a letter: a\n"
     ]
    },
    {
     "name": "stdout",
     "output_type": "stream",
     "text": [
      "a is vowel\n"
     ]
    }
   ],
   "source": [
    "letter=input(\"Enter a letter:\")\n",
    "if letter in 'aeiou':\n",
    "    print(f\"{letter} is vowel\")\n",
    "else:\n",
    "    print(f\"{letter} is Not vowel\")"
   ]
  },
  {
   "cell_type": "markdown",
   "id": "59495298-2187-4ae1-abd2-fc2ff19ca27d",
   "metadata": {},
   "source": [
    "### 12) Write a Python program to sum three given integers. However, if two values are equal, the sum will be zero.\n"
   ]
  },
  {
   "cell_type": "code",
   "execution_count": 16,
   "id": "0308914b-4f96-4819-999a-a3444a5c9ba2",
   "metadata": {},
   "outputs": [
    {
     "name": "stdin",
     "output_type": "stream",
     "text": [
      "Enter first Number: 45\n",
      "Enter second Number: 95\n",
      "Enter third Number: 8\n"
     ]
    },
    {
     "name": "stdout",
     "output_type": "stream",
     "text": [
      "The sum is 148\n"
     ]
    }
   ],
   "source": [
    "a=int(input(\"Enter first Number:\"))\n",
    "b=int(input(\"Enter second Number:\"))\n",
    "c=int(input(\"Enter third Number:\"))\n",
    "if a==b or b==c or c==a:\n",
    "    print(\"sum is zero\")\n",
    "else:\n",
    "    print(f\"The sum is {a+b+c}\")"
   ]
  },
  {
   "cell_type": "markdown",
   "id": "b2b07840-ba4c-4339-aa0a-3f3f6fbbf0d0",
   "metadata": {},
   "source": [
    "### 13) Write a Python program that will return true if the two given integer values are equal or their sum or difference is 5.\n"
   ]
  },
  {
   "cell_type": "code",
   "execution_count": 4,
   "id": "bf4dcdc4-a5bd-4867-8835-50040b930599",
   "metadata": {},
   "outputs": [
    {
     "name": "stdin",
     "output_type": "stream",
     "text": [
      "Enter first Number: 5\n",
      "Enter second Number: 6\n"
     ]
    },
    {
     "name": "stdout",
     "output_type": "stream",
     "text": [
      "False\n"
     ]
    }
   ],
   "source": [
    "a=int(input(\"Enter first Number:\"))\n",
    "b=int(input(\"Enter second Number:\"))\n",
    "if a==b  or abs(a+b==5) or abs(a-b==0) :\n",
    "    print(\"True\")\n",
    "else:\n",
    "    print(\"False\")\n",
    "    "
   ]
  },
  {
   "cell_type": "markdown",
   "id": "ac4d6973-692c-4e30-b1e0-a1f49bcd2c48",
   "metadata": {},
   "source": [
    "### 14) Write a Python program to sum the first n positive integers.\n"
   ]
  },
  {
   "cell_type": "code",
   "execution_count": 6,
   "id": "6524d9cd-3d4a-4cfe-bc2e-31e6a9652996",
   "metadata": {},
   "outputs": [
    {
     "name": "stdin",
     "output_type": "stream",
     "text": [
      "Enter a positive integer:  5\n"
     ]
    },
    {
     "name": "stdout",
     "output_type": "stream",
     "text": [
      "The sum of the first 5 positive integers is 15\n"
     ]
    }
   ],
   "source": [
    "n = int(input(\"Enter a positive integer: \"))\n",
    "sum_n =n*(n+1)\n",
    "d=sum_n//2\n",
    "print(f\"The sum of the first {n} positive integers is {d}\")"
   ]
  },
  {
   "cell_type": "markdown",
   "id": "99fdb076-eb57-476e-b07a-830163fdee77",
   "metadata": {},
   "source": [
    "### 15) Write a Python program to calculate the length of a string.\n"
   ]
  },
  {
   "cell_type": "code",
   "execution_count": 4,
   "id": "0cb474c7-5e01-4793-b76a-a876b7898c60",
   "metadata": {},
   "outputs": [
    {
     "name": "stdin",
     "output_type": "stream",
     "text": [
      "Enter String: aniket\n"
     ]
    },
    {
     "name": "stdout",
     "output_type": "stream",
     "text": [
      "length of a string 6\n"
     ]
    }
   ],
   "source": [
    "a=input(\"Enter String:\")\n",
    "print(\"length of a string\",len(a))"
   ]
  },
  {
   "cell_type": "markdown",
   "id": "9871213c-b5b8-4eb0-b837-737631dc9cda",
   "metadata": {},
   "source": [
    "### 16) Write a Python program to count the number of characters (character frequency) in a string.\n"
   ]
  },
  {
   "cell_type": "code",
   "execution_count": 2,
   "id": "2bc1c157-1e9d-4e18-9ddc-d928db4429d8",
   "metadata": {},
   "outputs": [
    {
     "name": "stdin",
     "output_type": "stream",
     "text": [
      "Enter String: anniet\n"
     ]
    },
    {
     "name": "stdout",
     "output_type": "stream",
     "text": [
      "{'a': 1, 'n': 2, 'i': 1, 'e': 1, 't': 1}\n"
     ]
    }
   ],
   "source": [
    "s=input(\"Enter String:\")\n",
    "d={}\n",
    "for i in s:\n",
    "    if i in d:\n",
    "        d[i]+=1\n",
    "    else:\n",
    "        d[i]=1\n",
    "print(d)"
   ]
  },
  {
   "cell_type": "markdown",
   "id": "69f1784d-0ba4-40c2-8b27-654973a27efe",
   "metadata": {},
   "source": [
    "### 17) What are Negative Indexes and Why Are They Used?\n"
   ]
  },
  {
   "cell_type": "markdown",
   "id": "ad855d12-1f09-425e-9f6b-b24c20d5c743",
   "metadata": {},
   "source": [
    "Negative Indexs in Python allow access to elements from the end of a senquence . They are used to convience and to make code more readble"
   ]
  },
  {
   "cell_type": "markdown",
   "id": "c6f26c70-1cbb-4435-967f-83f68c686caf",
   "metadata": {},
   "source": [
    "### 18)Write a Python program to count occurrences of a substring in a string. \n"
   ]
  },
  {
   "cell_type": "code",
   "execution_count": 2,
   "id": "25231a35-9a1c-448b-8d2f-dff8fd3e97af",
   "metadata": {},
   "outputs": [
    {
     "name": "stdout",
     "output_type": "stream",
     "text": [
      "2\n"
     ]
    }
   ],
   "source": [
    "a=\"my name is Aniket , my favorite language python\"\n",
    "b=\"my\"\n",
    "count=a.count(b)\n",
    "print(count)"
   ]
  },
  {
   "cell_type": "markdown",
   "id": "add9b490-9fe4-4545-9687-41e857754527",
   "metadata": {},
   "source": [
    "### 19) Python Program to Count the Occurrences of Each Word in a Given Sentence\n"
   ]
  },
  {
   "cell_type": "code",
   "execution_count": 8,
   "id": "2b2c589c-67d9-4e6a-b97d-d7394ca75819",
   "metadata": {},
   "outputs": [
    {
     "name": "stdout",
     "output_type": "stream",
     "text": [
      "{'This': 2, 'is': 2, 'a': 2, 'test.': 2, 'test': 1, 'only': 1}\n"
     ]
    }
   ],
   "source": [
    "sentence = \"This is a test. This test is only a test.\"\n",
    "words = sentence.split()\n",
    "d={}\n",
    "for word in words:\n",
    "    if word in d:\n",
    "        d[word]+=1\n",
    "    else:\n",
    "        d[word]=1\n",
    "print(d) "
   ]
  },
  {
   "cell_type": "markdown",
   "id": "665b6fe0-7057-4c59-bcf9-ad287764769f",
   "metadata": {},
   "source": [
    "### 20) Python Program to Get a Single String from Two Given Strings, Separated by a Space and Swap the First Two Characters of Each String\n"
   ]
  },
  {
   "cell_type": "code",
   "execution_count": 19,
   "id": "bbe0602b-eda3-43ba-b5de-c292cd331ceb",
   "metadata": {},
   "outputs": [
    {
     "name": "stdout",
     "output_type": "stream",
     "text": [
      "wollo herld\n"
     ]
    }
   ],
   "source": [
    "str1 = \"hello\"\n",
    "str2 = \"world\"\n",
    "new_str1 = str2[:2] +str1[2:]\n",
    "new_str2 = str1[:2] +str2[2:]\n",
    "print(new_str1+' '+new_str2) "
   ]
  },
  {
   "cell_type": "markdown",
   "id": "92206591-f60d-4848-ad1b-054dd210db89",
   "metadata": {},
   "source": [
    "### 21) Write a Python program to add 'in' at the end of a given string (lengthshould be at least 3). If the given string already ends with 'ing' thenadd 'ly' instead if the string length of the given string is less than 3,leave it unchanged. "
   ]
  },
  {
   "cell_type": "code",
   "execution_count": 40,
   "id": "3b0ae770-0b54-4488-b55b-6dcd2d4c5ab0",
   "metadata": {},
   "outputs": [
    {
     "name": "stdin",
     "output_type": "stream",
     "text": [
      "Enter String: s\n"
     ]
    },
    {
     "name": "stdout",
     "output_type": "stream",
     "text": [
      "s\n"
     ]
    }
   ],
   "source": [
    "a = input(\"Enter String:\")\n",
    "if len(a)<3:\n",
    "    print(a)\n",
    "elif a[-3:]=='ing':\n",
    "    a+='ly'\n",
    "    print(a)\n",
    "else:\n",
    "    a+='in'\n",
    "    print(a)\n"
   ]
  },
  {
   "cell_type": "markdown",
   "id": "a2aee4e1-0774-4111-b22e-1b99d9a3cb7c",
   "metadata": {},
   "source": [
    "###  22) Python Function to Reverse a String if Its Length is a Multiple of 4\n"
   ]
  },
  {
   "cell_type": "code",
   "execution_count": 63,
   "id": "e59c85e8-2a0a-4779-920b-94aee6853439",
   "metadata": {},
   "outputs": [
    {
     "name": "stdin",
     "output_type": "stream",
     "text": [
      "Enter String: fjhv\n"
     ]
    },
    {
     "name": "stdout",
     "output_type": "stream",
     "text": [
      "vhjf\n"
     ]
    }
   ],
   "source": [
    "a = input(\"Enter String:\")\n",
    "if (len(a)%4) == 0: \n",
    "    print(a[::-1])\n",
    "else:\n",
    "    print(a)"
   ]
  },
  {
   "cell_type": "markdown",
   "id": "5fd9bf8d-eefd-47c7-8c45-74c89b3a8fe9",
   "metadata": {},
   "source": [
    "### 23)Write a Python program to get a string made of the first 2 and the last2 chars from a given a string. If the string length is less than 2, return instead of the empty string\n"
   ]
  },
  {
   "cell_type": "code",
   "execution_count": 70,
   "id": "1807a145-c057-457a-b3a3-f286418eb6b3",
   "metadata": {},
   "outputs": [
    {
     "name": "stdin",
     "output_type": "stream",
     "text": [
      "Enter String: sd\n"
     ]
    },
    {
     "name": "stdout",
     "output_type": "stream",
     "text": [
      "sdsd\n"
     ]
    }
   ],
   "source": [
    "n=input(\"Enter String:\")\n",
    "if len(n) < 2:\n",
    "    print(\"\")\n",
    "else: \n",
    "    print(n[:2] + n[-2:])"
   ]
  },
  {
   "cell_type": "markdown",
   "id": "45c0735d-3a10-41de-99a9-97bf238db454",
   "metadata": {},
   "source": [
    "### 24)Write a Python function to insert a string in the middle of a string. "
   ]
  },
  {
   "cell_type": "code",
   "execution_count": 84,
   "id": "6881014b-2365-4b0d-b111-44f495bd6fa5",
   "metadata": {},
   "outputs": [
    {
     "name": "stdin",
     "output_type": "stream",
     "text": [
      "Enter a String: lsdfjh\n",
      "Enter a middle string sd\n"
     ]
    },
    {
     "name": "stdout",
     "output_type": "stream",
     "text": [
      "lsdsdfjh\n"
     ]
    }
   ],
   "source": [
    "def middle(a,mid):\n",
    "    m=len(a)//2\n",
    "    return a[:m]+mid+a[m:]\n",
    "a=input(\"Enter a String:\")\n",
    "mid=input(\"Enter a middle string\")\n",
    "print(middle(a,mid))\n"
   ]
  },
  {
   "cell_type": "markdown",
   "id": "c76d7b2c-c715-4a2b-89e7-b9a1f9c23e99",
   "metadata": {},
   "source": [
    "### 25)What is List? How will you reverse a list? \n"
   ]
  },
  {
   "cell_type": "markdown",
   "id": "88bed2e1-7699-410e-bdc9-6ff53a7c24e3",
   "metadata": {},
   "source": [
    "Collection of data ,it is mutable example:[1,2,3,\"asd\"]\n"
   ]
  },
  {
   "cell_type": "code",
   "execution_count": 75,
   "id": "a73c147c-33e0-428a-8a8c-293d12601142",
   "metadata": {},
   "outputs": [
    {
     "name": "stdout",
     "output_type": "stream",
     "text": [
      "[3, 2, 1]\n"
     ]
    }
   ],
   "source": [
    "a=[1,2,3]\n",
    "print(a[::-1])"
   ]
  },
  {
   "cell_type": "markdown",
   "id": "2e6cb78d-a25b-4925-a48d-af94ec8566c1",
   "metadata": {},
   "source": [
    "### 26)How will you remove last object from a list? \n"
   ]
  },
  {
   "cell_type": "code",
   "execution_count": 86,
   "id": "89bc7fc5-de48-47b0-a3f0-76d4aa4819d6",
   "metadata": {},
   "outputs": [
    {
     "name": "stdout",
     "output_type": "stream",
     "text": [
      "4\n",
      "[1, 2, 3]\n"
     ]
    }
   ],
   "source": [
    "a=[1,2,3,4]\n",
    "print(a.pop())\n",
    "print(a)"
   ]
  },
  {
   "cell_type": "markdown",
   "id": "a6a3745c-3376-448e-9d96-071e9944a337",
   "metadata": {},
   "source": [
    "### 27) Suppose list1 is [2, 33, 222, 14, 25], What is list1[-1]?\n"
   ]
  },
  {
   "cell_type": "markdown",
   "id": "059b76e9-faa7-49d4-93a3-1c353770107a",
   "metadata": {},
   "source": [
    "list1[-1] is 25"
   ]
  },
  {
   "cell_type": "markdown",
   "id": "b71f5474-e93a-47d4-8e9d-6197e4117db7",
   "metadata": {},
   "source": [
    "### 28) Differentiate Between append() and extend() Methods"
   ]
  },
  {
   "cell_type": "markdown",
   "id": "0e55bed0-d903-427e-b732-a96edde4fab8",
   "metadata": {},
   "source": [
    "The append() method appends an one element to the end of the list.\""
   ]
  },
  {
   "cell_type": "code",
   "execution_count": 80,
   "id": "a87a0c62-b532-460d-a251-5a5b180414b2",
   "metadata": {},
   "outputs": [
    {
     "data": {
      "text/plain": [
       "[1, 2, 3, 4, 5]"
      ]
     },
     "execution_count": 80,
     "metadata": {},
     "output_type": "execute_result"
    }
   ],
   "source": [
    "a=[1,2,3,4]\n",
    "a.append(5)\n",
    "a"
   ]
  },
  {
   "cell_type": "markdown",
   "id": "5144c622-3c4f-4d2e-b2b3-b3492061dcbf",
   "metadata": {},
   "source": [
    "The extend() method adds the specified list elements (or any iterable) to the end of the current list.\n"
   ]
  },
  {
   "cell_type": "code",
   "execution_count": 82,
   "id": "5ac0afe7-99dd-4e10-9a4c-bb05570726d0",
   "metadata": {},
   "outputs": [
    {
     "name": "stdout",
     "output_type": "stream",
     "text": [
      "[1, 2, 3, 4, 5, 6, 7, 8]\n"
     ]
    }
   ],
   "source": [
    "a=[1,2,3,4]\n",
    "b=[5,6,7,8]\n",
    "a.extend(b)\n",
    "print(a)"
   ]
  },
  {
   "cell_type": "markdown",
   "id": "a15924b7-5c3b-4fd1-85dc-bb064b2d445f",
   "metadata": {},
   "source": [
    "### 29) Python Function to Get the Largest Number, Smallest Number, and Sum of All from a List"
   ]
  },
  {
   "cell_type": "code",
   "execution_count": 88,
   "id": "2c9fef2d-e33c-41d3-ad55-66cc47d4f56c",
   "metadata": {},
   "outputs": [
    {
     "data": {
      "text/plain": [
       "('max:', 95, ' min:', 1, ' sum:', 110)"
      ]
     },
     "execution_count": 88,
     "metadata": {},
     "output_type": "execute_result"
    }
   ],
   "source": [
    "def lstfun(lst):\n",
    "    m=max(lst)\n",
    "    n=min(lst)\n",
    "    s=sum(lst)\n",
    "    return \"max:\",m,\" min:\",n,\" sum:\",s\n",
    "lstfun([4,5,95,5,1])"
   ]
  },
  {
   "cell_type": "markdown",
   "id": "4e3bd73c-4b66-46ed-aca9-b5fc27d2f283",
   "metadata": {},
   "source": [
    "### 30)How will you compare two lists? \n"
   ]
  },
  {
   "cell_type": "markdown",
   "id": "4360a2c4-5cd5-487f-be35-1e4943dee9e7",
   "metadata": {},
   "source": [
    "i compare two list use if statement euilty operator"
   ]
  },
  {
   "cell_type": "code",
   "execution_count": 89,
   "id": "803aac57-1898-49cd-9b48-e81b0d2fbfec",
   "metadata": {},
   "outputs": [
    {
     "name": "stdout",
     "output_type": "stream",
     "text": [
      "False\n"
     ]
    }
   ],
   "source": [
    "a=[4,5,8]\n",
    "b=[9,5,5]\n",
    "if a==b:\n",
    "    print(\"True\")\n",
    "else:\n",
    "    print(\"False\")"
   ]
  },
  {
   "cell_type": "markdown",
   "id": "3e6e2d19-dab1-4124-a386-ef8f6808310a",
   "metadata": {},
   "source": [
    "### 32)Write a Python program to remove duplicates from a list. "
   ]
  },
  {
   "cell_type": "code",
   "execution_count": 2,
   "id": "e3e3bb58-08f6-4993-b209-692e4f3e3b48",
   "metadata": {},
   "outputs": [
    {
     "name": "stdout",
     "output_type": "stream",
     "text": [
      "{1, 2, 3, 4, 5}\n"
     ]
    }
   ],
   "source": [
    "a=[1,2,3,2,1,2,1,3,4,5,2]\n",
    "b=set(a)\n",
    "a=b\n",
    "print(a)"
   ]
  },
  {
   "cell_type": "markdown",
   "id": "42839d7d-f505-4b15-948d-99f2c5dd7a78",
   "metadata": {},
   "source": [
    "### 33)Write a Python program to check a list is empty or not. "
   ]
  },
  {
   "cell_type": "code",
   "execution_count": 9,
   "id": "40d559de-6636-45d4-aed8-52dc2295ba08",
   "metadata": {},
   "outputs": [
    {
     "name": "stdout",
     "output_type": "stream",
     "text": [
      "List is Not Empty\n"
     ]
    }
   ],
   "source": [
    "a=[1,2,5]\n",
    "if not a:\n",
    "    print(\"List is Empty\")\n",
    "else:\n",
    "    print(\"List is Not Empty\")"
   ]
  },
  {
   "cell_type": "markdown",
   "id": "ad2a2ab0-deb9-43ad-815b-ffa171e1e69c",
   "metadata": {},
   "source": [
    "### 34) Write a Python function that takes two lists and returns true if they have at least one common member. "
   ]
  },
  {
   "cell_type": "code",
   "execution_count": 16,
   "id": "7a20be1f-20f6-4562-923c-489e5869f872",
   "metadata": {},
   "outputs": [
    {
     "name": "stdout",
     "output_type": "stream",
     "text": [
      "('Common Value:', 2)\n"
     ]
    }
   ],
   "source": [
    "def common(lst1,lst2):\n",
    "    for i in lst1:\n",
    "        for j in lst2:\n",
    "            if i==j:\n",
    "                return \"Common Value:\",i\n",
    "    else:\n",
    "        return \"No Common Value heare\"\n",
    "lst1=[1,2,5,6]\n",
    "lst2=[2,55,69,8]\n",
    "print(common(lst1,lst2))"
   ]
  },
  {
   "cell_type": "markdown",
   "id": "8f14d8fc-83a1-4e31-8811-b1d2d19fecb1",
   "metadata": {},
   "source": [
    "### 35) Write a Python program to generate and print a list of first and last 5 elements where the values are square of numbers between 1 and 30."
   ]
  },
  {
   "cell_type": "code",
   "execution_count": 26,
   "id": "afb9951f-e793-4a30-87d7-47ef42502ca1",
   "metadata": {},
   "outputs": [
    {
     "name": "stdout",
     "output_type": "stream",
     "text": [
      "[1, 4, 9, 16, 25, 676, 729, 784, 841, 900]\n"
     ]
    }
   ],
   "source": [
    "b=[]\n",
    "for i in range(1,31):\n",
    "    b.append(i**2)\n",
    "first=b[:5]\n",
    "last=b[-5:]\n",
    "result=first+last\n",
    "print(result)"
   ]
  },
  {
   "cell_type": "markdown",
   "id": "2f3341bc-bf2a-499a-8481-045499ef3bc5",
   "metadata": {},
   "source": [
    "### 36) Write a Python function that takes a list and returns a new list with unique elements of the first list."
   ]
  },
  {
   "cell_type": "code",
   "execution_count": 31,
   "id": "e432a880-3e1d-400c-9ece-965915035e22",
   "metadata": {},
   "outputs": [
    {
     "data": {
      "text/plain": [
       "[1, 2, 5]"
      ]
     },
     "execution_count": 31,
     "metadata": {},
     "output_type": "execute_result"
    }
   ],
   "source": [
    "def uniq(lst):\n",
    "    v=set(lst)\n",
    "    b=list(v)\n",
    "    return b\n",
    "uniq([1,2,1,5,2,1,5,2])"
   ]
  },
  {
   "cell_type": "markdown",
   "id": "24a7c636-2794-43df-b2c5-3f7100adb430",
   "metadata": {},
   "source": [
    "### 37)Write a Python program to convert a list of characters into a string. "
   ]
  },
  {
   "cell_type": "code",
   "execution_count": 42,
   "id": "d3ce6e4b-6f69-41a7-8390-b05b079d0e1d",
   "metadata": {},
   "outputs": [
    {
     "name": "stdout",
     "output_type": "stream",
     "text": [
      "aniket\n"
     ]
    }
   ],
   "source": [
    "a=['a','n','i','k','e','t']\n",
    "b=''\n",
    "for i in a:\n",
    "    b+=i\n",
    "print(b)"
   ]
  },
  {
   "cell_type": "markdown",
   "id": "c1b64615-5913-40db-92d5-b6a10800417e",
   "metadata": {},
   "source": [
    "### 38)Write a Python program to select an item randomly from a list. \n"
   ]
  },
  {
   "cell_type": "code",
   "execution_count": 54,
   "id": "415c22d4-2065-4bd9-9de4-d976d6307632",
   "metadata": {},
   "outputs": [
    {
     "name": "stdout",
     "output_type": "stream",
     "text": [
      "8\n"
     ]
    }
   ],
   "source": [
    "import random\n",
    "a=[1,5,2,8,6,8]\n",
    "r=random.choice(a)\n",
    "print(r)"
   ]
  },
  {
   "cell_type": "markdown",
   "id": "75825b5d-42ba-48fa-852f-972ccf7280d4",
   "metadata": {},
   "source": [
    "### 39)Write a Python program to find the second smallest number in a list. \n"
   ]
  },
  {
   "cell_type": "code",
   "execution_count": 62,
   "id": "812cb82f-90b6-4f28-9ee4-b4298037392e",
   "metadata": {},
   "outputs": [
    {
     "name": "stdout",
     "output_type": "stream",
     "text": [
      "The Second smallest Value is:  4\n"
     ]
    }
   ],
   "source": [
    "a=[4,5,2,88,8,51]\n",
    "b=sorted(a)\n",
    "print(\"The Second smallest Value is: \",b[1])"
   ]
  },
  {
   "cell_type": "markdown",
   "id": "b8b34f5c-f85e-43dd-8ee2-ff1c2858e7fd",
   "metadata": {},
   "source": [
    "### 40)Write a Python program to get unique values from a list \n"
   ]
  },
  {
   "cell_type": "code",
   "execution_count": 63,
   "id": "8b843ece-2986-4d0b-b557-0d14a77df4d9",
   "metadata": {},
   "outputs": [
    {
     "name": "stdout",
     "output_type": "stream",
     "text": [
      "[1, 2, 3, 5]\n"
     ]
    }
   ],
   "source": [
    "a=[1,2,3,5,3,2,2,1]\n",
    "b=set(a)\n",
    "print(list(b))"
   ]
  },
  {
   "cell_type": "markdown",
   "id": "0a87f50c-d0a5-4544-b0f8-0ebffb2dcae7",
   "metadata": {},
   "source": [
    "### 41)Write a Python program to check whether a list contains a sub list "
   ]
  },
  {
   "cell_type": "code",
   "execution_count": 20,
   "id": "e668d198-0d87-48b9-864b-05551dc83866",
   "metadata": {},
   "outputs": [
    {
     "name": "stdout",
     "output_type": "stream",
     "text": [
      "yes\n"
     ]
    }
   ],
   "source": [
    "a=[12,5,2,12,5]\n",
    "b=[5,12]\n",
    "found=False\n",
    "for i in a:\n",
    "    for j in b:\n",
    "        if i==j:\n",
    "            found=True\n",
    "            break\n",
    "    if found:\n",
    "        break\n",
    "if found:\n",
    "    print(\"yes\")\n",
    "else:\n",
    "    print(\"no\")"
   ]
  },
  {
   "cell_type": "markdown",
   "id": "5b5606f8-4544-485f-8a31-784b12f8ac9b",
   "metadata": {},
   "source": [
    "### 42)Write a Python program to split a list into different variables. "
   ]
  },
  {
   "cell_type": "code",
   "execution_count": 35,
   "id": "fddf800b-6596-4f90-ad5d-d9ea00b81daa",
   "metadata": {},
   "outputs": [
    {
     "name": "stdout",
     "output_type": "stream",
     "text": [
      "a1: 1\n",
      "a2: 2\n",
      "a3: 3\n",
      "a4: 4\n",
      "a5: 5\n"
     ]
    }
   ],
   "source": [
    "a = [1, 2, 3, 4, 5]\n",
    "a1, a2, a3, a4, a5 = a\n",
    "print(f'a1: {a1}')\n",
    "print(f'a2: {a2}')\n",
    "print(f'a3: {a3}')\n",
    "print(f'a4: {a4}')\n",
    "print(f'a5: {a5}')\n"
   ]
  },
  {
   "cell_type": "markdown",
   "id": "7323a54e-0137-4310-b1b5-80f5021895ac",
   "metadata": {},
   "source": [
    "### 43)What is tuple? Difference between list and tuple. \n"
   ]
  },
  {
   "cell_type": "markdown",
   "id": "b857edd6-cbbd-420b-a7f8-c0123e97e19d",
   "metadata": {},
   "source": [
    "Tuple is excatly same as list data type except that  is immutable we can not change the value<br>\n",
    "List: Mutable, meaning the elements can be changed, added, or removed.<br>\n",
    "Tuple: Immutable, meaning once it is created, it cannot be changed."
   ]
  },
  {
   "cell_type": "markdown",
   "id": "8c7fa4e0-369c-4565-bb97-761a7d956a6f",
   "metadata": {},
   "source": [
    "### 44)Write a Python program to create a tuple with different data types. \n"
   ]
  },
  {
   "cell_type": "code",
   "execution_count": 41,
   "id": "dfcf2ae9-345c-425c-82ab-d0a78d4475e6",
   "metadata": {},
   "outputs": [
    {
     "name": "stdout",
     "output_type": "stream",
     "text": [
      "('aniket', 5, 85.5, [4, 8, 5, 8], {'name': 'aniket'})\n",
      "<class 'tuple'>\n"
     ]
    }
   ],
   "source": [
    "a=(\"aniket\",5,85.5,[4,8,5,8],{'name':'aniket'})\n",
    "print(a)\n",
    "print(type(a))\n"
   ]
  },
  {
   "cell_type": "markdown",
   "id": "4dfa0b03-42b3-4bf6-b437-66d6f1a806ba",
   "metadata": {},
   "source": [
    "### 45)Write a Python program to unzip a list of tuples into individual lists. "
   ]
  },
  {
   "cell_type": "code",
   "execution_count": 21,
   "id": "919dfe4b-d85a-42a5-90cb-90192565f64d",
   "metadata": {},
   "outputs": [
    {
     "data": {
      "text/plain": [
       "(3, 5, 4)"
      ]
     },
     "execution_count": 21,
     "metadata": {},
     "output_type": "execute_result"
    }
   ],
   "source": [
    "a=[(2,5,3),(9,5,5),(6,8,4)]\n",
    "lst1,lst2,lst3=zip(*a)\n",
    "lst3"
   ]
  },
  {
   "cell_type": "markdown",
   "id": "ddfe14fb-49a4-4600-94e9-5686ab38bd23",
   "metadata": {},
   "source": [
    "### 46)Write a Python program to convert a list of tuples into a dictionary. \n"
   ]
  },
  {
   "cell_type": "code",
   "execution_count": 22,
   "id": "299c600b-8a20-4c2d-9383-4698e587f1a3",
   "metadata": {},
   "outputs": [
    {
     "name": "stdout",
     "output_type": "stream",
     "text": [
      "{1: 'one', 2: 'two', 3: 'three'}\n"
     ]
    }
   ],
   "source": [
    "l=[(1,\"one\"),(2,\"two\"),(3,\"three\")]\n",
    "d=dict(l)\n",
    "print(d)\n",
    "# for i in d.values():\n",
    "#     print(i)"
   ]
  },
  {
   "cell_type": "markdown",
   "id": "6f9e2eeb-90db-4605-9c58-0fe72655d33e",
   "metadata": {},
   "source": [
    "### 47)How will you create a dictionary using tuples in python? \n"
   ]
  },
  {
   "cell_type": "code",
   "execution_count": 63,
   "id": "7f1f34b3-5591-483e-83c5-599e6337b42c",
   "metadata": {},
   "outputs": [
    {
     "name": "stdout",
     "output_type": "stream",
     "text": [
      "{5: 6, 6: 2, 1: 3}\n"
     ]
    }
   ],
   "source": [
    "a=((5,6),(6,2),(1,3))\n",
    "b=dict(a)\n",
    "print(b)"
   ]
  },
  {
   "cell_type": "markdown",
   "id": "b71f7666-f5fb-4137-b5af-af5e54ebbd5d",
   "metadata": {},
   "source": [
    "### 48)Write a Python script to sort (ascending and descending) a dictionary by value. \n"
   ]
  },
  {
   "cell_type": "code",
   "execution_count": 78,
   "id": "b343287e-ca3a-4a77-9954-08caae821c97",
   "metadata": {},
   "outputs": [
    {
     "name": "stdout",
     "output_type": "stream",
     "text": [
      "[1, 5, 65, 558]\n"
     ]
    }
   ],
   "source": [
    "def AscDes(dic):\n",
    "    a=sorted(dic.values())\n",
    "    print(a)\n",
    "b={'a':558,'b':5,'c':65,'d':1}\n",
    "AscDes(b)"
   ]
  },
  {
   "cell_type": "code",
   "execution_count": 79,
   "id": "2cc62306-def4-4a47-ae52-ae4ae469ebff",
   "metadata": {},
   "outputs": [
    {
     "name": "stdout",
     "output_type": "stream",
     "text": [
      "Ascending order: {'d': 1, 'b': 5, 'c': 65, 'a': 558}\n",
      "Descending order: {'a': 558, 'c': 65, 'b': 5, 'd': 1}\n"
     ]
    }
   ],
   "source": [
    "def AscDes(dic):\n",
    "    items = list(dic.items())\n",
    "    \n",
    "    asc_sorted = sorted(items, key=lambda x: x[1])\n",
    "    print(\"Ascending order:\", dict(asc_sorted))\n",
    "    \n",
    "    desc_sorted = sorted(items, key=lambda x: x[1], reverse=True)\n",
    "    print(\"Descending order:\", dict(desc_sorted))\n",
    "\n",
    "b = {'a': 558, 'b': 5, 'c': 65, 'd': 1}\n",
    "AscDes(b)\n"
   ]
  },
  {
   "cell_type": "markdown",
   "id": "e1c13011-d48b-4eaf-8541-722a83995e0a",
   "metadata": {},
   "source": [
    "### 49)Write a Python script to concatenate following dictionaries to create a new one. "
   ]
  },
  {
   "cell_type": "code",
   "execution_count": 85,
   "id": "ba681dbf-f7e2-4e96-9afd-be0026f502dd",
   "metadata": {},
   "outputs": [
    {
     "name": "stdout",
     "output_type": "stream",
     "text": [
      "Update String: {'a': 12, 'b': 5, 'c': 25, 'd': 75}\n"
     ]
    }
   ],
   "source": [
    "a1={'a':12,'b':5}\n",
    "a2={'c':25,'d':75}\n",
    "c={}\n",
    "c.update(a1)\n",
    "c.update(a2)\n",
    "print(\"Update String:\",c)"
   ]
  },
  {
   "cell_type": "markdown",
   "id": "9645fe6f-29bb-4b3e-91d3-d65b4ab5d701",
   "metadata": {},
   "source": [
    "### 50)Write a Python script to check if a given key already exists in a dictionary. "
   ]
  },
  {
   "cell_type": "code",
   "execution_count": 90,
   "id": "4bff96f9-ef36-4957-8ccc-8b065c270f03",
   "metadata": {},
   "outputs": [
    {
     "name": "stdin",
     "output_type": "stream",
     "text": [
      "Enter key name: f\n"
     ]
    },
    {
     "name": "stdout",
     "output_type": "stream",
     "text": [
      "key not exists in a dictionary\n"
     ]
    }
   ],
   "source": [
    "def dict_key(dictionary,key):\n",
    "    if key in dictionary:\n",
    "        print(\"key already exists in a dictionary\")\n",
    "    else:\n",
    "        print(\"key not exists in a dictionary\")\n",
    "my_dict = {'a': 1, 'b': 2, 'c': 3}    \n",
    "key=input(\"Enter key name:\")\n",
    "dict_key(my_dict,key)"
   ]
  },
  {
   "cell_type": "markdown",
   "id": "dededf03-ca42-426b-943d-b53b4dce5e48",
   "metadata": {},
   "source": [
    "### 51)How Do You Traverse Through a Dictionary Object in Python? \n"
   ]
  },
  {
   "cell_type": "code",
   "execution_count": 8,
   "id": "57e9771b-8fa5-41d4-97a3-550fa964ecd6",
   "metadata": {},
   "outputs": [
    {
     "name": "stdout",
     "output_type": "stream",
     "text": [
      "name Aniket\n",
      "age 22\n",
      "city modasa\n"
     ]
    }
   ],
   "source": [
    "my_dict = {'name': 'Aniket', 'age': 22, 'city': 'modasa'}\n",
    "# for key in my_dict:\n",
    "#     print(key)\n",
    "for key,value in my_dict.items():\n",
    "    print(key,value)"
   ]
  },
  {
   "cell_type": "markdown",
   "id": "38d29995-bc4d-4b9d-b0c8-f89362071518",
   "metadata": {},
   "source": [
    "### 52)How Do You Check the Presence of a Key in A Dictionary? \n"
   ]
  },
  {
   "cell_type": "code",
   "execution_count": 9,
   "id": "79959dfd-e7a8-4971-9ada-3e00b57b02d6",
   "metadata": {},
   "outputs": [
    {
     "name": "stdout",
     "output_type": "stream",
     "text": [
      "The key is present\n"
     ]
    }
   ],
   "source": [
    "my_dict = {'name': 'Aniket', 'age': 22, 'city': 'modasa'}\n",
    "if 'name' in my_dict:\n",
    "    print(\"The key is present\")\n"
   ]
  },
  {
   "cell_type": "markdown",
   "id": "282bcfdf-c892-4c37-96bf-12acd93316a0",
   "metadata": {},
   "source": [
    "### 53)Write a Python script to print a dictionary where the keys are numbers between 1 and 15. "
   ]
  },
  {
   "cell_type": "code",
   "execution_count": 10,
   "id": "5938faf9-73c3-4b3e-9b67-1733404f3d4a",
   "metadata": {},
   "outputs": [
    {
     "name": "stdout",
     "output_type": "stream",
     "text": [
      "{1: 1, 2: 4, 3: 9, 4: 16, 5: 25, 6: 36, 7: 49, 8: 64, 9: 81, 10: 100, 11: 121, 12: 144, 13: 169, 14: 196, 15: 225}\n"
     ]
    }
   ],
   "source": [
    "dict={}\n",
    "for i in range(1,16):\n",
    "    dict[i]=i**2\n",
    "print(dict)"
   ]
  },
  {
   "cell_type": "markdown",
   "id": "eab9f478-66d6-49c5-9cef-30854073bb4e",
   "metadata": {},
   "source": [
    "### 54)Write a Python program to check multiple keys exists in a dictionary "
   ]
  },
  {
   "cell_type": "code",
   "execution_count": 18,
   "id": "45c3145a-7ede-468d-b6d9-817379f72e9d",
   "metadata": {},
   "outputs": [
    {
     "name": "stdout",
     "output_type": "stream",
     "text": [
      "Key 'name' is available.\n",
      "Key 'age' is available.\n",
      "Key 'phone' is not available.\n"
     ]
    }
   ],
   "source": [
    "my_dict = {'name': 'Aniket', 'age': 22, 'city': 'modasa'}\n",
    "a = ['name', 'age','phone']\n",
    "\n",
    "def check_keys(my_dict, keys):\n",
    "    for key in keys:\n",
    "        if key in my_dict:\n",
    "            print(f\"Key '{key}' is available.\")\n",
    "        else:\n",
    "            print(f\"Key '{key}' is not available.\")\n",
    "\n",
    "check_keys(my_dict, a)\n"
   ]
  },
  {
   "cell_type": "markdown",
   "id": "31ca9f4c-9a14-4423-9589-8f05409b26d3",
   "metadata": {},
   "source": [
    "### 55)Write a Python script to merge two Python dictionaries "
   ]
  },
  {
   "cell_type": "code",
   "execution_count": 21,
   "id": "f0eded47-6362-4eb7-b3ab-5d6c87ab4fa2",
   "metadata": {},
   "outputs": [
    {
     "data": {
      "text/plain": [
       "{1: 'Aniket', 2: 'patel', 3: 'Jai', 4: 'patel'}"
      ]
     },
     "execution_count": 21,
     "metadata": {},
     "output_type": "execute_result"
    }
   ],
   "source": [
    "j={1:\"Aniket\",2:\"patel\"}\n",
    "k={3:\"Jai\",4:\"patel\"}\n",
    "def merge_Dictionary(j,k):\n",
    "    j.update(k)\n",
    "    return j\n",
    "merge_Dictionary(j,k)"
   ]
  },
  {
   "cell_type": "markdown",
   "id": "dba9bc3f-91b6-4e2f-a4f8-b578d9d2caf8",
   "metadata": {},
   "source": [
    "### 56)Write a Python program to map two lists into a dictionary\n",
    "#### Sample output: Counter ({'a': 400, 'b': 400,’d’: 400, 'c': 300}). "
   ]
  },
  {
   "cell_type": "code",
   "execution_count": 26,
   "id": "dbf29334-e9df-4034-b7ef-2c22307568d3",
   "metadata": {},
   "outputs": [
    {
     "name": "stdout",
     "output_type": "stream",
     "text": [
      "{'a': 100, 'b': 200, 'c': 300, 'd': 400}\n"
     ]
    }
   ],
   "source": [
    "key=['a','b','c','d']\n",
    "value=[100,200,300,400]\n",
    "\n",
    "d={}\n",
    "for i in range(len(key)):\n",
    "    d[key[i]]=value[i]\n",
    "print(d)"
   ]
  },
  {
   "cell_type": "markdown",
   "id": "2d7b931a-0cb7-4c58-b8b0-023d99cc26c6",
   "metadata": {},
   "source": [
    "### 57)Write a Python program to find the highest 3 values in a dictionary \n"
   ]
  },
  {
   "cell_type": "code",
   "execution_count": 41,
   "id": "5900f1b8-141b-4c04-8dc7-535bab8cf68d",
   "metadata": {},
   "outputs": [
    {
     "name": "stdout",
     "output_type": "stream",
     "text": [
      "The highest 3 values are: [400, 300, 200]\n"
     ]
    }
   ],
   "source": [
    "a = {'a': 100, 'b': 200, 'c': 300, 'd': 400}\n",
    "values = list(a.values())\n",
    "sort = sorted(values, reverse=True)\n",
    "print(\"The highest 3 values are:\", sort[:3])"
   ]
  },
  {
   "cell_type": "markdown",
   "id": "bd72e8ab-a59b-4716-bf1d-82d3c911ea73",
   "metadata": {},
   "source": [
    "### 58)Write a Python program to combine values in python list of dictionaries.\n",
    "##### Sample data: [{'item': 'item1', 'amount': 400}, {'item': 'item2', 'amount':300}, o {'item': 'item1', 'amount': 750}]\n",
    "##### Expected Output:\n",
    "##### • Counter ({'item1': 1150, 'item2': 300})"
   ]
  },
  {
   "cell_type": "code",
   "execution_count": 29,
   "id": "393c9a49-32e2-42a3-b8dd-426914dc0c92",
   "metadata": {},
   "outputs": [
    {
     "name": "stdout",
     "output_type": "stream",
     "text": [
      "{'item1': 1150, 'item2': 300}\n"
     ]
    }
   ],
   "source": [
    "Sample_data = [{'item': 'item1', 'amount': 400}, {'item': 'item2', 'amount': 300}, {'item': 'item1', 'amount': 750}]\n",
    "counter = {}\n",
    "\n",
    "for data in Sample_data:\n",
    "    item=data['item']\n",
    "    amount=data['amount']\n",
    "    if  item in counter:\n",
    "        counter[item]+=amount\n",
    "    else:\n",
    "        counter[item]=amount\n",
    "print(counter)"
   ]
  },
  {
   "cell_type": "markdown",
   "id": "1c7f8acc-fbd1-4646-9b25-d9d862003105",
   "metadata": {},
   "source": [
    "### 59)Write a Python program to create a dictionary from a string.\n",
    "#### Note: Track the count of the letters from the string."
   ]
  },
  {
   "cell_type": "code",
   "execution_count": 38,
   "id": "b408d01e-f5bb-47b6-884f-aa97bdb2fc9b",
   "metadata": {},
   "outputs": [
    {
     "name": "stdin",
     "output_type": "stream",
     "text": [
      "Enter String: papper\n"
     ]
    },
    {
     "data": {
      "text/plain": [
       "{'p': 3, 'a': 1, 'e': 1, 'r': 1}"
      ]
     },
     "execution_count": 38,
     "metadata": {},
     "output_type": "execute_result"
    }
   ],
   "source": [
    "def count_String(name):\n",
    "    d={}\n",
    "    for i in name:\n",
    "        if i in d:\n",
    "            d[i]+=1\n",
    "        else:\n",
    "            d[i]=1\n",
    "    return(d)        \n",
    "name=input(\"Enter String:\")\n",
    "count_String(name)"
   ]
  },
  {
   "cell_type": "markdown",
   "id": "51d56111-95d9-4a41-8466-783c3d943a40",
   "metadata": {},
   "source": [
    "### 61)Write a Python function to calculate the factorial of a number (a nonnegative integer) \n"
   ]
  },
  {
   "cell_type": "code",
   "execution_count": 53,
   "id": "80358562-524e-40e2-abca-4699565cb6bc",
   "metadata": {},
   "outputs": [
    {
     "name": "stdin",
     "output_type": "stream",
     "text": [
      "Enter a factorial Number: 5\n"
     ]
    },
    {
     "name": "stdout",
     "output_type": "stream",
     "text": [
      "120\n"
     ]
    }
   ],
   "source": [
    "def factorial(n):\n",
    "    result=1\n",
    "    for i in range(1,n+1):\n",
    "        result*=i\n",
    "    return result\n",
    "a=int(input(\"Enter a factorial Number:\"))\n",
    "if a>0:\n",
    "    print(factorial(a))\n",
    "else:\n",
    "    print(\"Negative Number Not allowed\")"
   ]
  },
  {
   "cell_type": "markdown",
   "id": "f44abe96-4df3-4266-8214-a9557c1ce8b7",
   "metadata": {},
   "source": [
    "### 62)Write a Python function to check whether a number is in a given range \n"
   ]
  },
  {
   "cell_type": "code",
   "execution_count": 62,
   "id": "4c62eff4-59a7-4072-b178-b780111e3293",
   "metadata": {},
   "outputs": [
    {
     "name": "stdout",
     "output_type": "stream",
     "text": [
      "True\n",
      "False\n"
     ]
    }
   ],
   "source": [
    "def is_in_range(number, start, end):\n",
    "    return number in range(start, end + 1)\n",
    "\n",
    "print(is_in_range(5, 1, 10))  \n",
    "print(is_in_range(15, 1, 10)) \n"
   ]
  },
  {
   "cell_type": "markdown",
   "id": "365e6388-43ce-40d4-9f55-9890ff950011",
   "metadata": {},
   "source": [
    "### 63)Write a Python function to check whether a number is perfect or not. \n"
   ]
  },
  {
   "cell_type": "code",
   "execution_count": null,
   "id": "17ccccc9-353c-4da4-881c-f283e6ec516e",
   "metadata": {},
   "outputs": [],
   "source": []
  },
  {
   "cell_type": "markdown",
   "id": "2e7abb1b-037e-4d89-812b-72570828bc33",
   "metadata": {},
   "source": [
    "### 64)Write a Python function that checks whether a passed string is palindrome or not"
   ]
  },
  {
   "cell_type": "code",
   "execution_count": 68,
   "id": "f9e7a6c8-15e7-49a5-9662-455dcc6c5a24",
   "metadata": {},
   "outputs": [
    {
     "name": "stdin",
     "output_type": "stream",
     "text": [
      "Enter a Number: 151\n"
     ]
    },
    {
     "name": "stdout",
     "output_type": "stream",
     "text": [
      "151 is palidrome Number\n"
     ]
    }
   ],
   "source": [
    "def palidrome(n):\n",
    "    n_str=str(n)\n",
    "    if n_str==n_str[::-1]:\n",
    "        print(n,\"is palidrome Number\")\n",
    "    else:\n",
    "        print(n,\"is Not palidrome Number\")\n",
    "n=int(input(\"Enter a Number:\"))\n",
    "palidrome(n)\n",
    "    "
   ]
  },
  {
   "cell_type": "markdown",
   "id": "155ecd6b-16cd-4eb6-8783-a07fe37183bb",
   "metadata": {},
   "source": [
    "### 65)How Many Basic Types of Functions Are Available in Python? \n"
   ]
  },
  {
   "cell_type": "markdown",
   "id": "743f9197-da2e-488c-850a-60c517173be7",
   "metadata": {},
   "source": [
    "1.Built in functions<br>\n",
    "2.User Defined functions<br>\n",
    "3.lambda functions<br>\n",
    "4.Recursive functions"
   ]
  },
  {
   "cell_type": "markdown",
   "id": "db13a541-8b3b-4bef-8e0d-1034e5264b48",
   "metadata": {},
   "source": [
    "### 66)How can you pick a random item from a list or tuple? \n"
   ]
  },
  {
   "cell_type": "code",
   "execution_count": 80,
   "id": "d05d9107-deb2-413f-858a-91d08f9d15ae",
   "metadata": {},
   "outputs": [
    {
     "name": "stdout",
     "output_type": "stream",
     "text": [
      "list random number: 84\n",
      "tuple random number: 45\n"
     ]
    }
   ],
   "source": [
    "import random\n",
    "l=[6,60,84,64,21,45]\n",
    "print(\"list random number:\",random.choice(l))\n",
    "\n",
    "t=(6,60,84,64,21,45)\n",
    "print(\"tuple random number:\",random.choice(t))\n"
   ]
  },
  {
   "cell_type": "markdown",
   "id": "8a2ce5d0-1e83-4364-9284-8bef1dbea848",
   "metadata": {},
   "source": [
    "### 67)How can you pick a random item from a range? \n"
   ]
  },
  {
   "cell_type": "code",
   "execution_count": 90,
   "id": "ca7c8e8a-aff1-4df9-b04f-b26a740d7d1e",
   "metadata": {},
   "outputs": [
    {
     "name": "stdout",
     "output_type": "stream",
     "text": [
      "12\n"
     ]
    }
   ],
   "source": [
    "import random\n",
    "print(random.randrange(1,50))"
   ]
  },
  {
   "cell_type": "markdown",
   "id": "65f506e0-3ea7-49b6-b96f-a67271952c56",
   "metadata": {},
   "source": [
    "### 68)How can you get a random number in python? \n"
   ]
  },
  {
   "cell_type": "code",
   "execution_count": 91,
   "id": "e2a595fc-1ff9-40c4-9070-507c4d08c968",
   "metadata": {},
   "outputs": [
    {
     "name": "stdout",
     "output_type": "stream",
     "text": [
      "42\n"
     ]
    }
   ],
   "source": [
    "import random\n",
    "print(random.randint(1,50))"
   ]
  },
  {
   "cell_type": "markdown",
   "id": "d74fc6b3-ce83-4409-a787-e7cda4004543",
   "metadata": {},
   "source": [
    "### 69)How will you set the starting value in generating random numbers? "
   ]
  },
  {
   "cell_type": "markdown",
   "id": "27e7fa7e-8885-4892-a83e-7da0b32c59e9",
   "metadata": {},
   "source": [
    "\n",
    "The starting value (seed) for generating random numbers using the random.seed() function"
   ]
  },
  {
   "cell_type": "markdown",
   "id": "e9ca1269-52c9-425a-b030-83af063f7705",
   "metadata": {},
   "source": [
    "### 70) How will you randomize the items of a list in place? "
   ]
  },
  {
   "cell_type": "markdown",
   "id": "c7fa4fe5-396b-4dfe-b453-ee90644ed4f8",
   "metadata": {},
   "source": [
    "To randomize the items of a list in place in Python, use the random.shuffle() function"
   ]
  },
  {
   "cell_type": "code",
   "execution_count": 8,
   "id": "288011d6-05de-4112-94b5-1505a1487faf",
   "metadata": {},
   "outputs": [],
   "source": [
    "import random\n",
    "my_list = [1, 2, 3, 4, 5]\n",
    "random.shuffle(my_list)  "
   ]
  },
  {
   "cell_type": "markdown",
   "id": "9557af49-49e5-46b4-86cc-8a7f45d8af12",
   "metadata": {},
   "source": [
    "### 71)What is File function in python? What are keywords to create and write file. \n"
   ]
  },
  {
   "cell_type": "markdown",
   "id": "8eb7a035-d8d1-4b00-b1aa-aa0fe236444b",
   "metadata": {},
   "source": [
    "In Python, the open() function is used for file handling, allowing you to create, read, write, and close files."
   ]
  },
  {
   "cell_type": "markdown",
   "id": "a7823746-8e91-40e6-8652-c29cff7168e7",
   "metadata": {},
   "source": [
    "### 72)Write a Python program to read an entire text file. \n"
   ]
  },
  {
   "cell_type": "code",
   "execution_count": 9,
   "id": "f495d288-b042-43ef-9714-f6f041582c94",
   "metadata": {},
   "outputs": [
    {
     "name": "stdout",
     "output_type": "stream",
     "text": [
      " Good Morning!\n"
     ]
    }
   ],
   "source": [
    "f=open(\"module7.txt\",\"r\")\n",
    "print(f.read())"
   ]
  },
  {
   "cell_type": "markdown",
   "id": "836fd8a5-bacf-4414-a65d-bb79c2c31eb9",
   "metadata": {},
   "source": [
    "### 73)Write a Python program to append text to a file and display the text. \n"
   ]
  },
  {
   "cell_type": "code",
   "execution_count": 10,
   "id": "76ebe7d7-8ed1-4af2-9e3c-3d8ff86558dc",
   "metadata": {},
   "outputs": [],
   "source": [
    "f=open(\"module7.txt\",\"w\")\n",
    "f.write(\" Aniket Patel\")\n",
    "f.close()"
   ]
  },
  {
   "cell_type": "code",
   "execution_count": null,
   "id": "ca6f1ba1-7fb7-467f-9cb5-cce402badc6e",
   "metadata": {},
   "outputs": [],
   "source": []
  }
 ],
 "metadata": {
  "kernelspec": {
   "display_name": "Python 3 (ipykernel)",
   "language": "python",
   "name": "python3"
  },
  "language_info": {
   "codemirror_mode": {
    "name": "ipython",
    "version": 3
   },
   "file_extension": ".py",
   "mimetype": "text/x-python",
   "name": "python",
   "nbconvert_exporter": "python",
   "pygments_lexer": "ipython3",
   "version": "3.10.0"
  }
 },
 "nbformat": 4,
 "nbformat_minor": 5
}
